{
 "cells": [
  {
   "cell_type": "markdown",
   "metadata": {},
   "source": [
    "# Pattern example:\n",
    "For:\n",
    "` color1 = [\"red\", \"green\", \"green\"] and patterns = [\"a\", \"b\", \"b\"] `\n",
    "the output should be samePatterns(color1, patterns) = true;\n"
   ]
  },
  {
   "cell_type": "markdown",
   "metadata": {},
   "source": [
    "\n",
    "For:\n",
    "`color2 = [\"red\", \"green\", \"greenn\"] and patterns = [\"a\", \"b\", \"b\"] `\n",
    "\n",
    "the output should be samePatterns (strings, color2) = false."
   ]
  },
  {
   "cell_type": "code",
   "execution_count": 2,
   "metadata": {},
   "outputs": [
    {
     "name": "stdout",
     "output_type": "stream",
     "text": [
      "True\n",
      "False\n"
     ]
    }
   ],
   "source": [
    "\n",
    "def samePatterns(strings, patterns):\n",
    "    if len(strings) != len(patterns):\n",
    "        return False\n",
    "    else:\n",
    "      d1 = {}\n",
    "      d2 = {}\n",
    "      for i in range(len(strings)):\n",
    "        d1[strings[i]] = patterns[i]\n",
    "        d2[patterns[i]] = strings[i]\n",
    "\n",
    "      for i in range(len(strings)):\n",
    "          if d1[strings[i]] != patterns[i] or d2[patterns[i]] != strings[i]:\n",
    "              return False\n",
    "      return True\n",
    "print(samePatterns([\"red\", \"green\", \"or\",\"or\"], [\"a\", \"b\",'c','c']))\n",
    "print(samePatterns([\"red\", \"green\", \"greenn\"], [\"a\", \"b\", \"b\"]))"
   ]
  },
  {
   "cell_type": "markdown",
   "metadata": {},
   "source": [
    "# Problem:\n",
    "Techviz is a company who wants to launch their new web browser “RobustGo” which would be more secure and user friendly.\n",
    "\n",
    "1. Your team has to work on a mechanism that can keep track of all the opened tabs in one window, in a way that it can return all the tabs opened from beginning to the very recent tab but in a sequence order of recent tab till first tab.\n",
    "2. The user can create new tab by typing “NEW+”.\n",
    "3. Warn the user when tabs limit exceed more than 4.\n",
    "4. The user can have the option to view the last tab active by typing “BACK” every time it takes user to the previous tab opened and on last tab the option of “BACK” is automatically disabled"
   ]
  },
  {
   "cell_type": "code",
   "execution_count": 3,
   "metadata": {},
   "outputs": [
    {
     "name": "stdout",
     "output_type": "stream",
     "text": [
      "1 tab created\n",
      "2 tab created\n",
      "3 tab created\n",
      "4 tab created\n",
      "Warning: Tab limit exceeded\n",
      "Tabs from most recent to oldest:\n",
      "4\n",
      "3\n",
      "2\n",
      "1\n",
      "Went back to the 3 tab\n",
      "Went back to the 2 tab\n",
      "Tabs from most recent to oldest:\n",
      "2\n",
      "1\n"
     ]
    }
   ],
   "source": [
    "class TabManager:\n",
    "    def __init__(self):\n",
    "        self.tabs = []\n",
    "        self.max_tabs = 4\n",
    "        self.top=-1\n",
    "\n",
    "    def create_new_tab(self,name):\n",
    "        if len(self.tabs) >= self.max_tabs:\n",
    "            print(\"Warning: Tab limit exceeded\")\n",
    "        else:\n",
    "            self.top+=1\n",
    "            self.tabs.append(name)\n",
    "            print(f\"{name} tab created\")\n",
    "\n",
    "    def view_tabs(self):\n",
    "        if not self.tabs:\n",
    "            print(\"No tabs opened\")\n",
    "        else:\n",
    "            print(\"Tabs from most recent to oldest:\")\n",
    "            for tab in reversed(self.tabs):\n",
    "                print(tab)\n",
    "\n",
    "    def back(self):\n",
    "        if not self.tabs:\n",
    "            print(\"No tabs to go back to\")\n",
    "        else:\n",
    "            back= self.tabs.pop()\n",
    "            self.top-=1\n",
    "            if self.tabs:\n",
    "                print(f\"Went back to the {self.tabs[self.top]} tab\")\n",
    "            else:\n",
    "                print(\"No previous tabs available\")\n",
    "\n",
    "# Example usage\n",
    "tab_manager = TabManager()\n",
    "\n",
    "# Creating new tabs\n",
    "tab_manager.create_new_tab(\"1\")  # New tab created\n",
    "tab_manager.create_new_tab(\"2\")  # New tab created\n",
    "tab_manager.create_new_tab(\"3\")  # New tab created\n",
    "tab_manager.create_new_tab(\"4\")  # New tab created\n",
    "tab_manager.create_new_tab(\"5\")  # Warning: Tab limit exceeded\n",
    "\n",
    "# Viewing tabs\n",
    "tab_manager.view_tabs()  # Should list all tabs from most recent to oldest\n",
    "\n",
    "# Going back\n",
    "tab_manager.back()  # Went back to the previous tab\n",
    "tab_manager.back()  # Went back to the previous tab\n",
    "tab_manager.view_tabs()  # Should list remaining tabs\n"
   ]
  }
 ],
 "metadata": {
  "kernelspec": {
   "display_name": "Python 3",
   "language": "python",
   "name": "python3"
  },
  "language_info": {
   "codemirror_mode": {
    "name": "ipython",
    "version": 3
   },
   "file_extension": ".py",
   "mimetype": "text/x-python",
   "name": "python",
   "nbconvert_exporter": "python",
   "pygments_lexer": "ipython3",
   "version": "3.12.5"
  }
 },
 "nbformat": 4,
 "nbformat_minor": 2
}
