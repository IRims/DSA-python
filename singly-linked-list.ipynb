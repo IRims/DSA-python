{
 "cells": [
  {
   "cell_type": "code",
   "execution_count": 5,
   "metadata": {},
   "outputs": [],
   "source": [
    "class Node:\n",
    "    def __init__(self,data):\n",
    "        self.data =data\n",
    "        self.next= None"
   ]
  },
  {
   "cell_type": "markdown",
   "metadata": {},
   "source": [
    "## Operations on Singly Linked List\n",
    "1. Traversal\n",
    "2. Searching\n",
    "3. Length\n",
    "4. Insertion:\n",
    "- Insert at the beginning\n",
    "- Insert at the end\n",
    "- Insert at a specific position\n",
    "5. Deletion:\n",
    "- Delete from the beginning\n",
    "- Delete from the end\n",
    "- Delete a specific node"
   ]
  },
  {
   "cell_type": "markdown",
   "metadata": {},
   "source": [
    "## Insert at the beginning"
   ]
  },
  {
   "cell_type": "code",
   "execution_count": 23,
   "metadata": {},
   "outputs": [
    {
     "name": "stdout",
     "output_type": "stream",
     "text": [
      "Empty list..\n",
      "===List====\n",
      "num1  num2.5  =========\n",
      "Size of the list: 2\n",
      "num3 not found!!\n",
      "num2.5 found at 1\n",
      "num5 not found!!\n"
     ]
    }
   ],
   "source": [
    "class LinkedList:\n",
    "    def __init__(self):\n",
    "        self.head = None\n",
    "    # insert in start \n",
    "    def insertAtBeginning(self, new_data):\n",
    "        new_node = Node(new_data)   \n",
    "        new_node.next = self.head  \n",
    "        self.head = new_node  \n",
    "    # insert at end \n",
    "    def insertAtEnd(self, new_data):\n",
    "        new_node = Node(new_data)  \n",
    "        if self.head is None:\n",
    "            self.head = new_node  \n",
    "            return\n",
    "        last = self.head \n",
    "        while last.next:  \n",
    "            last = last.next\n",
    "        last.next = new_node  \n",
    "\n",
    "    # insert after a node \n",
    "    def insertAfter(self, prev_node, new_data):\n",
    "        if prev_node is None:\n",
    "            print(\"Given previous node not found! \")\n",
    "            return\n",
    "        new_node = Node(new_data)\n",
    "        new_node.next = prev_node.next\n",
    "        prev_node.next = new_node\n",
    "\n",
    "    # print list\n",
    "    def printList(self):\n",
    "        if self.head:\n",
    "            print(\"===List====\")\n",
    "            temp = self.head \n",
    "            while temp:\n",
    "                print(temp.data,end='  ') \n",
    "                temp = temp.next \n",
    "            print(\"=========\") \n",
    "        else:\n",
    "            print(\"Empty list..\")\n",
    "        \n",
    "    def deleteFromBeginning(self):\n",
    "        if self.head is None:\n",
    "            return \"The list is empty\" \n",
    "        self.head = self.head.next\n",
    "    \n",
    "    def deleteFromEnd(self):\n",
    "        if self.head is None:\n",
    "            return \"The list is empty\" \n",
    "        if self.head.next is None:\n",
    "            self.head = None  \n",
    "            return\n",
    "        temp = self.head\n",
    "        while temp.next.next: \n",
    "            temp = temp.next\n",
    "        temp.next = None  \n",
    "    \n",
    "    def searchValue(self,value):\n",
    "        current = self.head\n",
    "        position =0\n",
    "        while current:\n",
    "            if current.data == value:\n",
    "                return print(f\"{value} found at {position}\")\n",
    "            current=current.next\n",
    "            position+=1\n",
    "        return print(f\"{value} not found!!\") \n",
    "    def size(self):\n",
    "        def _size_recursive(node):\n",
    "            if not node:\n",
    "                return 0\n",
    "            else:\n",
    "                return 1 + _size_recursive(node.next)\n",
    "        \n",
    "        print(f\"Size of the list: {_size_recursive(self.head)}\")\n",
    "\n",
    "if __name__ == '__main__':\n",
    "\n",
    "    my_list = LinkedList()\n",
    "    my_list.printList()\n",
    "    my_list.insertAtBeginning('num1')  # 1\n",
    "    my_list.insertAtBeginning('num2')  # 2 , 1\n",
    "    my_list.insertAfter(my_list.head.next,\"num2.5\") # 2, 2.5 , 1 , 3\n",
    "    my_list.insertAtEnd('num3')  # 2, 2.5 , 1 , 3\n",
    "    my_list.deleteFromBeginning() # 2.5 , 1 , 3\n",
    "    my_list.deleteFromEnd() # 2.5 , 1 \n",
    " \n",
    "    my_list.printList()     # 2.5 , 1 \n",
    "    my_list.size()\n",
    "    my_list.searchValue(\"num3\")\n",
    "    my_list.searchValue(\"num2.5\")\n",
    "    my_list.searchValue(\"num5\")\n"
   ]
  },
  {
   "cell_type": "code",
   "execution_count": null,
   "metadata": {},
   "outputs": [],
   "source": [
    "def digital_root(n):\n",
    "    return n if n>10 else digital_root(sum(int(digit) for digit in str(n))) "
   ]
  },
  {
   "cell_type": "code",
   "execution_count": 30,
   "metadata": {},
   "outputs": [
    {
     "name": "stdout",
     "output_type": "stream",
     "text": [
      "15\n",
      "29\n"
     ]
    }
   ],
   "source": [
    "print(digital_root(942))\n",
    "print(digital_root(493193))"
   ]
  }
 ],
 "metadata": {
  "kernelspec": {
   "display_name": "Python 3",
   "language": "python",
   "name": "python3"
  },
  "language_info": {
   "codemirror_mode": {
    "name": "ipython",
    "version": 3
   },
   "file_extension": ".py",
   "mimetype": "text/x-python",
   "name": "python",
   "nbconvert_exporter": "python",
   "pygments_lexer": "ipython3",
   "version": "3.12.5"
  }
 },
 "nbformat": 4,
 "nbformat_minor": 2
}
