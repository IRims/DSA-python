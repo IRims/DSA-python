{
 "cells": [
  {
   "cell_type": "markdown",
   "metadata": {},
   "source": [
    "## Queues:\n",
    "After the situation prevailing across the globe many rules, regulations and SOPS have been introduced due to covid. Not only in big marts but small shops also are required to follow it. Example: whenever Ahmed visits Imtiaz Mart, for payment of his goods he needs a receipt from Counter1.Then he proceeds towards Counter2 only along with receipt for payment. On Counter 2 only 5 persons at a time are allowed and then checkout.\n",
    "Implement the following:\n",
    "-\tGenerate receipt (like zain4235)\n",
    "-\tDelete last enter customer due to time lapse.\n",
    "-\tSearch for the customer name start with S.\n",
    "-\tFind very first customer and give him 10% discount..\n",
    "-\tDisplay all customers receipt no to the Admin..\n"
   ]
  },
  {
   "cell_type": "code",
   "execution_count": null,
   "metadata": {},
   "outputs": [],
   "source": []
  }
 ],
 "metadata": {
  "language_info": {
   "name": "python"
  }
 },
 "nbformat": 4,
 "nbformat_minor": 2
}
